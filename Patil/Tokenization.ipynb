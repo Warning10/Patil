{
 "cells": [
  {
   "cell_type": "code",
   "execution_count": 9,
   "metadata": {
    "collapsed": false
   },
   "outputs": [
   ],
   "source": [
    "import nltk\n",
    "from nltk.tokenize import word_tokenize,sent_tokenize\n",
    "from nltk.tag import pos_tag\n",
    "from nltk.stem import WordNetLemmatizer\n",
    "from nltk.stem import PorterStemmer\n",
    "\n",
    "# Example text\n",
    "text = \"My name is Yash Patil . I am 21 years old and currently studying in KKWagh Institute of Engineering \""
   ]
  },
  {
   "cell_type": "code",
   "execution_count": 10,
   "metadata": {
    "collapsed": false
   },
   "outputs": [
    {
     "name": "stdout",
     "output_type": "stream",
     "text": [
      "Tokens: ['My', 'name', 'is', 'Yash', 'Patil', '.', 'I', 'am', '21', 'years', 'old', 'and', 'currently', 'studying', 'in', 'KKWagh', 'Institute', 'of', 'Engineering']\n"
     ]
    }
   ],
   "source": [
    "# Tokenization\n",
    "tokens = word_tokenize(text)\n",
    "print(\"Tokens:\", tokens)"
   ]
  },
  {
   "cell_type": "code",
   "execution_count": 11,
   "metadata": {
    "collapsed": false
   },
   "outputs": [
    {
     "name": "stdout",
     "output_type": "stream",
     "text": [
      "Tokens: ['My name is Yash Patil .', 'I am 21 years old and currently studying in KKWagh Institute of Engineering']\n"
     ]
    }
   ],
   "source": [
    "#Sentence tokenization\n",
    "sentt = sent_tokenize(text)\n",
    "print(\"Tokens:\", sentt)"
   ]
  },
  {
   "cell_type": "code",
   "execution_count": 12,
   "metadata": {
    "collapsed": false
   },
   "outputs": [
    {
     "name": "stdout",
     "output_type": "stream",
     "text": [
      "POS Tags: [('My', 'PRP$'), ('name', 'NN'), ('is', 'VBZ'), ('Yash', 'NNP'), ('Patil', 'NNP'), ('.', '.'), ('I', 'PRP'), ('am', 'VBP'), ('21', 'CD'), ('years', 'NNS'), ('old', 'JJ'), ('and', 'CC'), ('currently', 'RB'), ('studying', 'VBG'), ('in', 'IN'), ('KKWagh', 'NNP'), ('Institute', 'NNP'), ('of', 'IN'), ('Engineering', 'NNP')]\n"
     ]
    }
   ],
   "source": [
    "# POS tagging\n",
    "pos_tags = pos_tag(tokens)\n",
    "print(\"POS Tags:\", pos_tags)"
   ]
  },
  {
   "cell_type": "code",
   "execution_count": 13,
   "metadata": {
    "collapsed": false
   },
   "outputs": [
    {
     "name": "stdout",
     "output_type": "stream",
     "text": [
      "my name is yash patil . i am 21 years old and currently studying in kkwagh institute of engineering \n"
     ]
    }
   ],
   "source": [
    "#Stemming\n",
    "porter = PorterStemmer()\n",
    "print(porter.stem(text))"
   ]
  },
  {
   "cell_type": "code",
   "execution_count": 14,
   "metadata": {
    "collapsed": false
   },
   "outputs": [
    {
     "name": "stdout",
     "output_type": "stream",
     "text": [
      "['My', 'name', 'is', 'Yash', 'Patil', '.', 'I', 'am', '21', 'year', 'old', 'and', 'currently', 'studying', 'in', 'KKWagh', 'Institute', 'of', 'Engineering']\n"
     ]
    }
   ],
   "source": [
    "#Lemmitization\n",
    "lemmatizer = WordNetLemmatizer()\n",
    "lemmas = [lemmatizer.lemmatize(token) for token in tokens]\n",
    "print(lemmas)"
   ]
  }
 ],
 "metadata": {
  "kernelspec": {
   "argv": [
    "/usr/bin/python3",
    "-m",
    "ipykernel",
    "--HistoryManager.enabled=False",
    "--matplotlib=inline",
    "-c",
    "%config InlineBackend.figure_formats = set(['retina'])\nimport matplotlib; matplotlib.rcParams['figure.figsize'] = (12, 7)",
    "-f",
    "{connection_file}"
   ],
   "display_name": "Python 3 (system-wide)",
   "env": {
   },
   "language": "python",
   "metadata": {
    "cocalc": {
     "description": "Python 3 programming language",
     "priority": 100,
     "url": "https://www.python.org/"
    }
   },
   "name": "python3",
   "resource_dir": "/ext/jupyter/kernels/python3"
  },
  "language_info": {
   "codemirror_mode": {
    "name": "ipython",
    "version": 3
   },
   "file_extension": ".py",
   "mimetype": "text/x-python",
   "name": "python",
   "nbconvert_exporter": "python",
   "pygments_lexer": "ipython3",
   "version": "3.10.6"
  }
 },
 "nbformat": 4,
 "nbformat_minor": 4
}